{
 "cells": [
  {
   "cell_type": "code",
   "execution_count": null,
   "id": "8a6780fa",
   "metadata": {},
   "outputs": [],
   "source": [
    "import os\n",
    "import json\n",
    "from pathlib import Path\n",
    "from rich.pretty import pprint\n",
    "from openai import OpenAI\n",
    "from docai import utils"
   ]
  },
  {
   "cell_type": "code",
   "execution_count": null,
   "id": "1f71dce5",
   "metadata": {},
   "outputs": [],
   "source": [
    "GDX_ARTIFACTS = Path(\"/Users/kwesi/Desktop/ai/gdxf/src/artifacts\")\n",
    "loe_document = open(GDX_ARTIFACTS / \"texts/data/ps_ross_whitehead.txt\").read()\n",
    "loe_schema = json.load(open(GDX_ARTIFACTS / \"schemas/data/loe_detailed.json\"))\n",
    "ps_document = open(GDX_ARTIFACTS / \"texts/data/ps_ross_whitehead.txt\").read()\n",
    "ps_schema = json.load(open(GDX_ARTIFACTS / \"schemas/data/ps_detailed.json\"))\n",
    "crm_document = open(GDX_ARTIFACTS / \"texts/data/crm_wes_harden.txt\").read()\n",
    "crm_schema = json.load(open(GDX_ARTIFACTS / \"schemas/data/crm_debrief.json\"))\n",
    "tools = [\n",
    "    \n",
    "    {\n",
    "        \"type\": \"function\",\n",
    "        \"function\": {\n",
    "            \"name\": \"get_letter_of_employment_data\",\n",
    "            \"description\": \"Extracts data from a letter of employment\",\n",
    "            \"parameters\": loe_schema\n",
    "        }\n",
    "    },\n",
    "    {\n",
    "        \"type\": \"function\",\n",
    "        \"function\": {\n",
    "            \"name\": \"get_pay_slip_data\",\n",
    "            \"description\": \"Extracts data from a pay slip\",\n",
    "            \"parameters\": ps_schema\n",
    "        }\n",
    "    },\n",
    "    # {\n",
    "    #     \"type\": \"function\",\n",
    "    #     \"function\": {\n",
    "    #         \"name\": \"get_crm_data\",\n",
    "    #         \"description\": \"Extracts data from a Customer Relationship Management software notes\",\n",
    "    #         \"parameters\": crm_schema\n",
    "    #     }\n",
    "    # }\n",
    "]"
   ]
  },
  {
   "cell_type": "code",
   "execution_count": null,
   "id": "6c9bad50-88a2-405b-ab73-31fcd99583a7",
   "metadata": {},
   "outputs": [],
   "source": [
    "env = {\n",
    "    \"SCHEMA_TABLE_PARAMETER_NAME\": \"/dev/table/schema_table_name\",\n",
    "    \"OPENAI_API_KEY_PARAMETER_NAME\": \"/dev/secret/openai/api_key\"\n",
    "}\n",
    "os.environ.update(env)\n",
    "resource = utils.Resources()\n",
    "secrets = utils.Secrets()\n",
    "schema_table = resource.get_table(\"SCHEMA_TABLE_PARAMETER_NAME\")\n",
    "client = OpenAI(api_key=secrets(\"OPENAI_API_KEY_PARAMETER_NAME\"))"
   ]
  },
  {
   "cell_type": "code",
   "execution_count": null,
   "id": "c9e75209",
   "metadata": {},
   "outputs": [],
   "source": [
    "user_content = [\n",
    "    {\"type\": \"text\", \"text\": f\"I need help extracting data from an employment letter. \\n\\n Employment Letter: \\n\\n {loe_document}\"},\n",
    "]\n",
    "messages = [\n",
    "    {\"role\": \"user\", \"content\": user_content}\n",
    "]\n",
    "response_1 = client.chat.completions.create(\n",
    "    model=\"gpt-4\",\n",
    "    messages=messages,\n",
    "    tools=tools,\n",
    ")\n",
    "pprint(json.loads(response_1.choices[0].message.tool_calls[0].function.arguments))"
   ]
  },
  {
   "cell_type": "code",
   "execution_count": null,
   "id": "28cc4356",
   "metadata": {},
   "outputs": [],
   "source": [
    "user_content = [\n",
    "    {\"type\": \"text\", \"text\": f\"I need help extracting data from a pay stub. \\n\\n Pay Stub: \\n\\n {ps_document}\"},\n",
    "]\n",
    "messages = [\n",
    "    {\"role\": \"user\", \"content\": user_content}\n",
    "]\n",
    "response_2 = client.chat.completions.create(\n",
    "    model=\"gpt-4\",\n",
    "    messages=messages,\n",
    "    tools=tools,\n",
    ")\n",
    "pprint(json.loads(response_2.choices[0].message.tool_calls[0].function.arguments))"
   ]
  },
  {
   "cell_type": "code",
   "execution_count": null,
   "id": "04b84deb",
   "metadata": {},
   "outputs": [],
   "source": [
    "# user_content = [\n",
    "#     {\"type\": \"text\", \"text\": f\"I need help extracting data from notes for a customer relationship management software. \\n\\n CRM Notes: \\n\\n {crm_document}\"},\n",
    "# ]\n",
    "# messages = [\n",
    "#     {\"role\": \"user\", \"content\": user_content}\n",
    "# ]\n",
    "# response_3 = client.chat.completions.create(\n",
    "#     model=\"gpt-4\",\n",
    "#     messages=messages,\n",
    "#     tools=tools,\n",
    "# )\n",
    "# pprint(response_3.choices[0].message.tool_calls[0])"
   ]
  },
  {
   "cell_type": "code",
   "execution_count": null,
   "id": "f5ee2e7a",
   "metadata": {},
   "outputs": [],
   "source": []
  }
 ],
 "metadata": {
  "language_info": {
   "name": "python"
  }
 },
 "nbformat": 4,
 "nbformat_minor": 5
}
