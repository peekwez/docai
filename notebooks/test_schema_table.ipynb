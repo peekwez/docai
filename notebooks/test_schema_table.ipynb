{
 "cells": [
  {
   "cell_type": "code",
   "execution_count": 1,
   "id": "6c9bad50-88a2-405b-ab73-31fcd99583a7",
   "metadata": {},
   "outputs": [],
   "source": [
    "import os\n",
    "from docai import utils\n",
    "\n",
    "env = {\n",
    "    \"SCHEMA_TABLE_PARAMETER_NAME\": \"/dev/table/schema_table_name\"\n",
    "}\n",
    "os.environ.update(env)\n",
    "resource = utils.Resources()\n",
    "schema_table = resource.get_table(\"SCHEMA_TABLE_PARAMETER_NAME\")"
   ]
  },
  {
   "cell_type": "code",
   "execution_count": 2,
   "id": "5ce8c750",
   "metadata": {},
   "outputs": [],
   "source": [
    "response = schema_table.scan()"
   ]
  },
  {
   "cell_type": "code",
   "execution_count": 3,
   "id": "f421f3d2",
   "metadata": {},
   "outputs": [
    {
     "name": "stdout",
     "output_type": "stream",
     "text": [
      "invoice-schema 6H8OayrQzV\n",
      "invoice-schema nN6qaH4NTD\n",
      "test_loe 9jBVrISmXA\n",
      "test_loe Gcpgmg1c79\n",
      "test_loe Q36JIg9w1n\n",
      "test_loe TbeMFJ32PJ\n",
      "test_loe UQMLlv6n11\n",
      "test_loe YnYiJgIZSv\n",
      "test_loe aG9UQXnRLy\n",
      "test_loe dsaXPHvte5\n",
      "test_loe pHNkk7ROXq\n",
      "test_loe rvByviQNVb\n",
      "test_loe tRmC7GhT1d\n",
      "test_loe y5w9Gzpjzd\n"
     ]
    }
   ],
   "source": [
    "for item in response[\"Items\"]:\n",
    "    print(item[\"schema_name\"], item[\"schema_version\"])"
   ]
  },
  {
   "cell_type": "code",
   "execution_count": null,
   "id": "0a895c6c",
   "metadata": {},
   "outputs": [],
   "source": []
  }
 ],
 "metadata": {
  "kernelspec": {
   "display_name": "Python 3 (ipykernel)",
   "language": "python",
   "name": "python3"
  },
  "language_info": {
   "codemirror_mode": {
    "name": "ipython",
    "version": 3
   },
   "file_extension": ".py",
   "mimetype": "text/x-python",
   "name": "python",
   "nbconvert_exporter": "python",
   "pygments_lexer": "ipython3",
   "version": "3.12.1"
  }
 },
 "nbformat": 4,
 "nbformat_minor": 5
}
