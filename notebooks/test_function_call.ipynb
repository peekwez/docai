{
 "cells": [
  {
   "cell_type": "code",
   "execution_count": null,
   "id": "6c9bad50-88a2-405b-ab73-31fcd99583a7",
   "metadata": {},
   "outputs": [],
   "source": [
    "import os\n",
    "import base64\n",
    "from openai import OpenAI\n",
    "from docai import utils\n",
    "\n",
    "env = {\n",
    "    \"SCHEMA_TABLE_PARAMETER_NAME\": \"/dev/table/schema_table_name\",\n",
    "    \"OPENAI_API_KEY_PARAMETER_NAME\": \"/dev/secret/openai/api_key\"\n",
    "}\n",
    "os.environ.update(env)\n",
    "resource = utils.Resources()\n",
    "secrets = utils.Secrets()\n",
    "schema_table = resource.get_table(\"SCHEMA_TABLE_PARAMETER_NAME\")\n",
    "client = OpenAI(api_key=secrets(\"OPENAI_API_KEY_PARAMETER_NAME\"))"
   ]
  },
  {
   "cell_type": "code",
   "execution_count": null,
   "id": "0a895c6c",
   "metadata": {},
   "outputs": [],
   "source": [
    "def encode_image(image_path):\n",
    "  with open(image_path, \"rb\") as image_file:\n",
    "    return base64.b64encode(image_file.read()).decode('utf-8')\n",
    "  \n",
    "def get_tools():\n",
    "    item = schema_table.scan()[\"Items\"][5]\n",
    "    schema = item[\"schema_definition\"]\n",
    "    schema.pop(\"description\")\n",
    "    # schema.pop(\"title\")\n",
    "    schema.pop(\"$schema\")\n",
    "    # schema.pop(\"$id\")\n",
    "    description = item[\"schema_description\"]\n",
    "    tools = [\n",
    "        {\n",
    "            \"type\": \"function\",\n",
    "            \"function\": {\n",
    "                \"name\": \"get_letter_of_employment_data\",\n",
    "                \"description\": description,\n",
    "                \"parameters\": schema\n",
    "            }\n",
    "        },\n",
    "    ]\n",
    "    return tools"
   ]
  },
  {
   "cell_type": "code",
   "execution_count": null,
   "id": "c9e75209",
   "metadata": {},
   "outputs": [],
   "source": [
    "data = open(\"../samples/media/loe.txt\").read()\n",
    "user_content = [\n",
    "    {\"type\": \"text\", \"text\": f\"I need help extracting data from an employment letter. \\n\\n Employment Letter: \\n\\n {data}\"},\n",
    "]\n",
    "messages = [\n",
    "    {\"role\": \"system\", \"content\": \"Your are a data extracting assistant that can help humans extract data from a document.\"},\n",
    "    {\"role\": \"user\", \"content\": user_content}\n",
    "]\n",
    "tools = get_tools()"
   ]
  },
  {
   "cell_type": "code",
   "execution_count": null,
   "id": "28cc4356",
   "metadata": {},
   "outputs": [],
   "source": [
    "response = client.chat.completions.create(\n",
    "    model=\"gpt-4\",\n",
    "    messages=messages,\n",
    "    tools=tools,\n",
    ")"
   ]
  },
  {
   "cell_type": "code",
   "execution_count": null,
   "id": "5955e10d",
   "metadata": {},
   "outputs": [],
   "source": [
    "response.choices[0].message.json()"
   ]
  },
  {
   "cell_type": "code",
   "execution_count": null,
   "id": "c7ffbe42",
   "metadata": {},
   "outputs": [],
   "source": [
    "tools"
   ]
  },
  {
   "cell_type": "code",
   "execution_count": null,
   "id": "04b84deb",
   "metadata": {},
   "outputs": [],
   "source": []
  }
 ],
 "metadata": {
  "language_info": {
   "name": "python"
  }
 },
 "nbformat": 4,
 "nbformat_minor": 5
}
