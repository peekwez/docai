{
 "cells": [
  {
   "cell_type": "code",
   "execution_count": null,
   "id": "6c9bad50-88a2-405b-ab73-31fcd99583a7",
   "metadata": {},
   "outputs": [],
   "source": [
    "import os\n",
    "from docai import utils, llm, stream\n",
    "\n",
    "env = {\n",
    "    \"FILES_BUCKET_PARAMETER_NAME\": \"/dev/bucket/files_bucket_name\",\n",
    "    \"OPEN_API_KEY_PARAMETER_NAME\": \"/dev/secret/openai/api_key\",\n",
    "    \"EXTRACT_BATCH_QUEUE_PARAMETER_NAME\": \"/dev/queue/batch_data_queue_name\",\n",
    "    \"SCHEMA_TABLE_PARAMETER_NAME\": \"/dev/table/schema_table_name\"\n",
    "}\n",
    "os.environ.update(env)\n",
    "\n",
    "config = utils.Config()\n",
    "secrets = utils.Secrets()\n",
    "resource = utils.Resources()\n",
    "\n",
    "bucket_name = config(\"FILES_BUCKET_PARAMETER_NAME\")\n",
    "openai_api_key = secrets(\"OPEN_API_KEY_PARAMETER_NAME\")\n",
    "\n",
    "s3_client = resource.get_s3()\n",
    "batch_queue = resource.get_queue(\"EXTRACT_BATCH_QUEUE_PARAMETER_NAME\")\n",
    "schema_table = resource.get_table(\"SCHEMA_TABLE_PARAMETER_NAME\")\n",
    "\n",
    "client = llm.LLMClient(api_key=openai_api_key)\n",
    "\n",
    "media = [\n",
    "    (\"../samples/b64string/sample.jpg.txt\", \"image/jpg\"),\n",
    "    (\"../samples/b64string/sample.png.txt\", \"image/png\"),\n",
    "    (\"../samples/b64string/sample.pdf.txt\", \"application/pdf\")\n",
    "]\n",
    "key = {'schema_name': 'mls-schema', 'schema_version': 'kOZvkhdjbV'}\n",
    "schema = schema_table.get_item(Key=key).get(\"Item\")\n",
    "params = []\n",
    "for filename, mime_type in media:\n",
    "    content = open(filename, \"r\").read()\n",
    "    document = dict(content=content, mime_type=mime_type)\n",
    "    param = stream.prepare_extraction_request(schema, document, s3_client, bucket_name)\n",
    "    params.append(param)"
   ]
  },
  {
   "cell_type": "code",
   "execution_count": null,
   "id": "ea3f3ce1-67cf-4560-a4e7-cea59960762a",
   "metadata": {},
   "outputs": [],
   "source": [
    "responses = []\n",
    "for param in params:\n",
    "    response = client(**param, s3=s3_client, bucket_name=bucket_name)\n",
    "    responses.append(response)"
   ]
  },
  {
   "cell_type": "code",
   "execution_count": null,
   "id": "5e905c9c",
   "metadata": {},
   "outputs": [],
   "source": [
    "from rich.pretty import pprint\n",
    "for i, response in enumerate(responses):\n",
    "    pprint(f\"------------------ Document {i+1} :: {media[i]} ------------------\")\n",
    "    pprint(response[\"result\"])"
   ]
  },
  {
   "cell_type": "code",
   "execution_count": null,
   "id": "5ce8c750",
   "metadata": {},
   "outputs": [],
   "source": []
  }
 ],
 "metadata": {
  "language_info": {
   "name": "python"
  }
 },
 "nbformat": 4,
 "nbformat_minor": 5
}
