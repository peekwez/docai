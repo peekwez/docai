{
 "cells": [
  {
   "cell_type": "code",
   "execution_count": null,
   "metadata": {},
   "outputs": [],
   "source": [
    "import json\n",
    "import httpx\n",
    "from rich.pretty import pprint"
   ]
  },
  {
   "cell_type": "code",
   "execution_count": null,
   "metadata": {},
   "outputs": [],
   "source": [
    "filename = \"/Users/kwesi/Desktop/ai/docai/src/assistants/tmp/mls.json\"\n",
    "with open(filename,\"r\") as f:\n",
    "    data = json.load(f)\n",
    "headers = {\n",
    "  'Content-Type': 'application/json',\n",
    "  'x-api-key': 'gcW9bO2PoRBnWTY2Aaxz4gLxs8rSDxqaaHvOcfN7'\n",
    "}\n",
    "url = \"https://921ktisij4.execute-api.ca-central-1.amazonaws.com/prod/create-schema\"\n",
    "r = httpx.post(url, headers=headers, json=data)\n",
    "pprint(r.json())"
   ]
  },
  {
   "cell_type": "code",
   "execution_count": null,
   "metadata": {},
   "outputs": [],
   "source": []
  },
  {
   "cell_type": "code",
   "execution_count": null,
   "metadata": {},
   "outputs": [],
   "source": [
    "schema = r.json()[\"result\"]"
   ]
  },
  {
   "cell_type": "code",
   "execution_count": null,
   "metadata": {},
   "outputs": [],
   "source": []
  }
 ],
 "metadata": {
  "language_info": {
   "name": "python"
  }
 },
 "nbformat": 4,
 "nbformat_minor": 2
}
