{
 "cells": [
  {
   "cell_type": "code",
   "execution_count": null,
   "metadata": {},
   "outputs": [],
   "source": [
    "import json\n",
    "import httpx\n",
    "import base64\n",
    "import fitz\n",
    "\n",
    "from rich.pretty import pprint\n",
    "\n",
    "DPI = 300\n",
    "DEFAULT_IMAGE_FORMAT = \"png\"\n",
    "DEFAULT_IMAGE_MIME_TYPE = \"image/png\"\n",
    "DATA_PATH = \"/Users/kwesi/Desktop/ai/docai/data\"\n",
    "BASE_URL = \"https://921ktisij4.execute-api.ca-central-1.amazonaws.com/prod\""
   ]
  },
  {
   "cell_type": "code",
   "execution_count": null,
   "metadata": {},
   "outputs": [],
   "source": [
    "# filename = f\"{DATA_PATH}/mls.json\"\n",
    "# with open(filename,\"r\") as f:\n",
    "#     data = json.load(f)\n",
    "# headers = {\n",
    "#   'Content-Type': 'application/json',\n",
    "#   'x-api-key': 'gcW9bO2PoRBnWTY2Aaxz4gLxs8rSDxqaaHvOcfN7'\n",
    "# }\n",
    "# url = f\"{BASE_URL}/create-schema\"\n",
    "# r = httpx.post(url, headers=headers, json=data)\n",
    "# schema = r.json()[\"result\"]\n",
    "# pprint(schema)"
   ]
  },
  {
   "cell_type": "code",
   "execution_count": null,
   "metadata": {},
   "outputs": [],
   "source": [
    "# def load_pdf(filename:str) -> list[bytes]:\n",
    "#     pages = fitz.open(filename, filetype=\"pdf\")\n",
    "#     images = []\n",
    "#     for page in pages:\n",
    "#         image = page.get_pixmap(dpi=DPI)\n",
    "#         images.append(base64.b64encode(image.tobytes(output=DEFAULT_IMAGE_FORMAT)))\n",
    "#     return images\n",
    "\n",
    "# images = load_pdf(f\"{DATA_PATH}/2393BronteComps.pdf\")"
   ]
  },
  {
   "cell_type": "code",
   "execution_count": null,
   "metadata": {},
   "outputs": [],
   "source": [
    "# headers = {\n",
    "#   'Content-Type': 'application/json',\n",
    "#   'x-api-key': 'gcW9bO2PoRBnWTY2Aaxz4gLxs8rSDxqaaHvOcfN7'\n",
    "# }\n",
    "# url = f\"{BASE_URL}/extract-data-batch\"\n",
    "# queued = []\n",
    "# for i, image in enumerate(images):  \n",
    "#   data = {\n",
    "#     **schema,\n",
    "#     \"content\": image.decode(\"utf-8\"),\n",
    "#     \"mime_type\": DEFAULT_IMAGE_MIME_TYPE\n",
    "#   }\n",
    "  \n",
    "#   r = httpx.post(url, headers=headers, json=data, timeout=120)\n",
    "#   queued.append(r.json()[\"result\"])\n",
    " \n",
    "#   with open(f\"{DATA_PATH}/queued.json\",\"w\") as f:\n",
    "#     json.dump(queued,f,indent=2)"
   ]
  },
  {
   "cell_type": "code",
   "execution_count": null,
   "metadata": {},
   "outputs": [],
   "source": [
    "with open(f\"{DATA_PATH}/queued.json\",\"r\") as f:\n",
    "    queued = json.load(f)\n",
    "\n",
    "headers = {\n",
    "  'Content-Type': 'application/json',\n",
    "  'x-api-key': 'gcW9bO2PoRBnWTY2Aaxz4gLxs8rSDxqaaHvOcfN7'\n",
    "}\n",
    "\n",
    "results = []\n",
    "url = f\"{BASE_URL}/get-result\"\n",
    "for i, result in enumerate(queued):\n",
    "    r = httpx.post(url, headers=headers, json={\"request_id\": result[\"request_id\"]})\n",
    "    try:\n",
    "      results.append(r.json()[\"result\"][\"data\"])\n",
    "    except:\n",
    "       pprint(f\"Error\\n{r.json()}\")\n",
    "\n",
    "\n",
    "with open(f\"{DATA_PATH}/results.json\",\"w\") as f:\n",
    "  json.dump(results,f,indent=2)"
   ]
  },
  {
   "cell_type": "code",
   "execution_count": null,
   "metadata": {},
   "outputs": [],
   "source": [
    "with open(f\"{DATA_PATH}/queued.json\",\"r\") as f:\n",
    "    queued = json.load(f)"
   ]
  },
  {
   "cell_type": "code",
   "execution_count": null,
   "metadata": {},
   "outputs": [],
   "source": [
    "ids = [result[\"request_id\"] for result in queued]"
   ]
  },
  {
   "cell_type": "code",
   "execution_count": null,
   "metadata": {},
   "outputs": [],
   "source": [
    "print(ids)"
   ]
  }
 ],
 "metadata": {
  "language_info": {
   "name": "python"
  }
 },
 "nbformat": 4,
 "nbformat_minor": 2
}
