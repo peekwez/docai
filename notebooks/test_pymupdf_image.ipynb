{
 "cells": [
  {
   "cell_type": "code",
   "execution_count": 1,
   "id": "93edd43d",
   "metadata": {},
   "outputs": [],
   "source": [
    "import fitz"
   ]
  },
  {
   "cell_type": "code",
   "execution_count": 2,
   "id": "691d6b3b",
   "metadata": {},
   "outputs": [],
   "source": [
    "doc = fitz.open(\"../images/sample.pdf\")"
   ]
  },
  {
   "cell_type": "code",
   "execution_count": 7,
   "id": "8d07060d",
   "metadata": {},
   "outputs": [],
   "source": [
    "for page in doc:\n",
    "    pix = page.get_pixmap(dpi=300)\n",
    "    pix.save(\"../images/sample.png\")"
   ]
  },
  {
   "cell_type": "code",
   "execution_count": 28,
   "id": "59f0a4d8",
   "metadata": {},
   "outputs": [],
   "source": [
    "import base64\n",
    "with open(\"../images/sample.pdf.txt\", \"r\") as f:\n",
    "    buffer = base64.b64decode(f.read())\n",
    "    doc = fitz.open(stream=buffer, filetype=\"pdf\")"
   ]
  },
  {
   "cell_type": "code",
   "execution_count": 30,
   "id": "d8f3d65e",
   "metadata": {},
   "outputs": [
    {
     "name": "stdout",
     "output_type": "stream",
     "text": [
      "Tomato Technologies \n",
      "1234 Yarrow Crescent \n",
      "East Gwillimbury, ON L3G9Y6 \n",
      "Canada \n",
      "December 20, 2023 \n",
      "Barbara Walker \n",
      "Account Manager \n",
      "Pepper Bank Plc \n",
      "290 Mitchell Drive \n",
      "Newmarket, ON L2X 0F9 \n",
      "Canada \n",
      "Dear Barbara Walker, \n",
      "RE: Employment Veriﬁcation for Peter Scott \n",
      "I am writing to conﬁrm the employment status of Peter Scott, who is currently employed as a \n",
      "Data Scientist at Tomato Technologies. Peter has been working with us since January 21, \n",
      "2019. \n",
      "As of December 20, 2023, Peter Scott holds the position of Data Scientist and is earning an \n",
      "annual salary of $70,000. \n",
      "Should you require any additional information or have speciﬁc questions related to John Scott \n",
      "employment, please do not hesitate to contact me at 1-800-233-3455. \n",
      "Thank you for your attention to this matter. \n",
      "Sincerely, \n",
      "John Peters\n",
      "\n"
     ]
    }
   ],
   "source": [
    "for page in doc:\n",
    "    print(page.get_text())"
   ]
  },
  {
   "cell_type": "code",
   "execution_count": null,
   "id": "40506403",
   "metadata": {},
   "outputs": [],
   "source": []
  }
 ],
 "metadata": {
  "kernelspec": {
   "display_name": "Python 3 (ipykernel)",
   "language": "python",
   "name": "python3"
  },
  "language_info": {
   "codemirror_mode": {
    "name": "ipython",
    "version": 3
   },
   "file_extension": ".py",
   "mimetype": "text/x-python",
   "name": "python",
   "nbconvert_exporter": "python",
   "pygments_lexer": "ipython3",
   "version": "3.12.1"
  }
 },
 "nbformat": 4,
 "nbformat_minor": 5
}
