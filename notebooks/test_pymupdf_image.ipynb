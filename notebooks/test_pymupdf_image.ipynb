{
 "cells": [
  {
   "cell_type": "code",
   "execution_count": 1,
   "id": "93edd43d",
   "metadata": {},
   "outputs": [],
   "source": [
    "import fitz\n",
    "import base64"
   ]
  },
  {
   "cell_type": "code",
   "execution_count": 2,
   "id": "691d6b3b",
   "metadata": {},
   "outputs": [],
   "source": [
    "doc = fitz.open(\"../samples/media/sample.pdf\")\n",
    "for page in doc:\n",
    "    pix = page.get_pixmap(dpi=300)\n",
    "    pix.save(\"../samples/media/sample.png\")"
   ]
  },
  {
   "cell_type": "code",
   "execution_count": 28,
   "id": "59f0a4d8",
   "metadata": {},
   "outputs": [],
   "source": [
    "with open(\"../samples/b64string/sample.pdf.txt\", \"r\") as f:\n",
    "    buffer = base64.b64decode(f.read())\n",
    "    doc = fitz.open(stream=buffer, filetype=\"pdf\")\n",
    "\n",
    "for page in doc:\n",
    "    print(page.get_text())"
   ]
  }
 ],
 "metadata": {
  "kernelspec": {
   "display_name": "Python 3 (ipykernel)",
   "language": "python",
   "name": "python3"
  },
  "language_info": {
   "codemirror_mode": {
    "name": "ipython",
    "version": 3
   },
   "file_extension": ".py",
   "mimetype": "text/x-python",
   "name": "python",
   "nbconvert_exporter": "python",
   "pygments_lexer": "ipython3",
   "version": "3.12.1"
  }
 },
 "nbformat": 4,
 "nbformat_minor": 5
}
