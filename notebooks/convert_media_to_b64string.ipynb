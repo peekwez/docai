{
 "cells": [
  {
   "cell_type": "code",
   "execution_count": 1,
   "id": "f270fb20-9607-4f5f-88fd-d714a087bba7",
   "metadata": {},
   "outputs": [],
   "source": [
    "import base64\n",
    "files = (\n",
    "    # (\"../samples/media/sample.png\", \"../samples/b64string/sample.png.txt\"),\n",
    "    # (\"../samples/media/sample.jpg\", \"../samples/b64string/sample.jpg.txt\"),\n",
    "    # (\"../samples/media/sample.pdf\", \"../samples/b64string/sample.pdf.txt\"),\n",
    "    (\"../samples/media/invoice.pdf\", \"../samples/b64string/invoice.pdf.txt\"),\n",
    ")\n",
    "\n",
    "for filename, output in files:\n",
    "    with open(filename, \"rb\") as f:\n",
    "        data = f.read()\n",
    "\n",
    "    with open(output, \"w\") as f:\n",
    "        f.write(base64.b64encode(data).decode(\"utf-8\"))"
   ]
  },
  {
   "cell_type": "code",
   "execution_count": null,
   "id": "8b9b705c",
   "metadata": {},
   "outputs": [],
   "source": []
  }
 ],
 "metadata": {
  "kernelspec": {
   "display_name": "Python 3 (ipykernel)",
   "language": "python",
   "name": "python3"
  },
  "language_info": {
   "codemirror_mode": {
    "name": "ipython",
    "version": 3
   },
   "file_extension": ".py",
   "mimetype": "text/x-python",
   "name": "python",
   "nbconvert_exporter": "python",
   "pygments_lexer": "ipython3",
   "version": "3.12.1"
  }
 },
 "nbformat": 4,
 "nbformat_minor": 5
}
