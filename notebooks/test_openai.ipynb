{
 "cells": [
  {
   "cell_type": "code",
   "execution_count": 1,
   "id": "f270fb20-9607-4f5f-88fd-d714a087bba7",
   "metadata": {},
   "outputs": [],
   "source": [
    "import json\n",
    "from rich.pretty import pprint\n",
    "from docai import utils, llm, stream"
   ]
  },
  {
   "cell_type": "code",
   "execution_count": 2,
   "id": "6c9bad50-88a2-405b-ab73-31fcd99583a7",
   "metadata": {},
   "outputs": [],
   "source": [
    "config = utils.Config()\n",
    "resource = utils.Resource()\n",
    "s3_client = resource.get_s3()\n",
    "bucket_name = config.get_parameter(\"/env/bucket/name\")\n",
    "table = resource.get_table(\"/env/schema/table/name\")\n",
    "client = llm.LLMClient(json.loads(config.get_secret(\"/env/openai/secret/name\"))[\"OPENAI_API_KEY\"])\n",
    "queue = resource.get_queue(\"/env/batch/queue/name\")"
   ]
  },
  {
   "cell_type": "code",
   "execution_count": 3,
   "id": "48e5f4a3-489f-4d41-a87e-fd0e0860dcc8",
   "metadata": {},
   "outputs": [
    {
     "data": {
      "text/plain": [
       "sqs.Queue(url='https://sqs.ca-central-1.amazonaws.com/742960443368/DocumentAIStackDev-ExtractDataBatchQueue35C0223A-WJXOdRYl9W5D')"
      ]
     },
     "execution_count": 3,
     "metadata": {},
     "output_type": "execute_result"
    }
   ],
   "source": [
    "queue"
   ]
  },
  {
   "cell_type": "code",
   "execution_count": null,
   "id": "047d4f30-2192-4d46-9615-177e832d080c",
   "metadata": {},
   "outputs": [],
   "source": [
    "media = [\n",
    "    (\"../images/sample.jpg.txt\", \"image/jpg\"),\n",
    "    (\"../images/sample.pdf.txt\", \"application/pdf\")\n",
    "]\n",
    "schema = table.get_item(Key={\"schema_name\": \"test_loe\",\"schema_version\": \"Td84jcvZOs\"}).get(\"Item\")\n",
    "params = []\n",
    "for filename, mime_type in media:\n",
    "    content = open(filename, \"r\").read()\n",
    "    document = dict(content=content, mime_type=mime_type)\n",
    "    params.append(stream.prepare_extraction_request(schema, document, s3_client, bucket_name)\n",
    "    documents.append(document)\n"
   ]
  },
  {
   "cell_type": "code",
   "execution_count": null,
   "id": "ea3f3ce1-67cf-4560-a4e7-cea59960762a",
   "metadata": {},
   "outputs": [],
   "source": [
    "response_0 = client(**params[0], s3=s3_client, bucket_name=bucket_name)\n",
    "pprint(response_0)"
   ]
  },
  {
   "cell_type": "code",
   "execution_count": null,
   "id": "27021347-a12a-42be-9641-268d5a453206",
   "metadata": {},
   "outputs": [],
   "source": [
    "response_1 = client(**params[1], s3=s3_client, bucket_name=bucket_name)\n",
    "pprint(response_1)"
   ]
  }
 ],
 "metadata": {
  "kernelspec": {
   "display_name": "Python 3 (ipykernel)",
   "language": "python",
   "name": "python3"
  },
  "language_info": {
   "codemirror_mode": {
    "name": "ipython",
    "version": 3
   },
   "file_extension": ".py",
   "mimetype": "text/x-python",
   "name": "python",
   "nbconvert_exporter": "python",
   "pygments_lexer": "ipython3",
   "version": "3.12.1"
  }
 },
 "nbformat": 4,
 "nbformat_minor": 5
}
