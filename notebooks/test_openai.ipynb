{
 "cells": [
  {
   "cell_type": "code",
   "execution_count": 1,
   "id": "6c9bad50-88a2-405b-ab73-31fcd99583a7",
   "metadata": {},
   "outputs": [],
   "source": [
    "import os\n",
    "from docai import utils, llm, stream\n",
    "\n",
    "env = {\n",
    "    \"FILES_BUCKET_PARAMETER_NAME\": \"/dev/bucket/files_bucket_name\",\n",
    "    \"OPEN_API_KEY_PARAMETER_NAME\": \"/dev/secret/openai/api_key\",\n",
    "    \"EXTRACT_BATCH_QUEUE_PARAMETER_NAME\": \"/dev/queue/batch_data_queue_name\",\n",
    "    \"SCHEMA_TABLE_PARAMETER_NAME\": \"/dev/table/schema_table_name\"\n",
    "}\n",
    "os.environ.update(env)\n",
    "\n",
    "config = utils.Config()\n",
    "secrets = utils.Secrets()\n",
    "resource = utils.Resources()\n",
    "\n",
    "bucket_name = config(\"FILES_BUCKET_PARAMETER_NAME\")\n",
    "openai_api_key = secrets(\"OPEN_API_KEY_PARAMETER_NAME\")\n",
    "\n",
    "s3_client = resource.get_s3()\n",
    "batch_queue = resource.get_queue(\"EXTRACT_BATCH_QUEUE_PARAMETER_NAME\")\n",
    "schema_table = resource.get_table(\"SCHEMA_TABLE_PARAMETER_NAME\")\n",
    "\n",
    "client = llm.LLMClient(api_key=openai_api_key)\n",
    "\n",
    "media = [\n",
    "    (\"../images/sample.jpg.txt\", \"image/jpg\"),\n",
    "    (\"../images/sample.png.txt\", \"image/png\"),\n",
    "    (\"../images/sample.pdf.txt\", \"application/pdf\")\n",
    "]\n",
    "schema = schema_table.get_item(Key={\"schema_name\": \"test_loe\",\"schema_version\": \"9jBVrISmXA\"}).get(\"Item\")\n",
    "params = []\n",
    "for filename, mime_type in media:\n",
    "    content = open(filename, \"r\").read()\n",
    "    document = dict(content=content, mime_type=mime_type)\n",
    "    param = stream.prepare_extraction_request(schema, document, s3_client, bucket_name)\n",
    "    params.append(param)"
   ]
  },
  {
   "cell_type": "code",
   "execution_count": 2,
   "id": "ea3f3ce1-67cf-4560-a4e7-cea59960762a",
   "metadata": {},
   "outputs": [],
   "source": [
    "responses = []\n",
    "for param in params:\n",
    "    response = client(**param, s3=s3_client, bucket_name=bucket_name)\n",
    "    responses.append(response)"
   ]
  },
  {
   "cell_type": "code",
   "execution_count": 6,
   "id": "5e905c9c",
   "metadata": {},
   "outputs": [
    {
     "data": {
      "text/html": [
       "<pre style=\"white-space:pre;overflow-x:auto;line-height:normal;font-family:Menlo,'DejaVu Sans Mono',consolas,'Courier New',monospace\"><span style=\"color: #008000; text-decoration-color: #008000\">\"------------------ Document 1 :: ('../images/sample.jpg.txt', 'image/jpg') ------------------\"</span>\n",
       "</pre>\n"
      ],
      "text/plain": [
       "\u001b[32m\"------------------ Document 1 :: \u001b[0m\u001b[32m(\u001b[0m\u001b[32m'../images/sample.jpg.txt', 'image/jpg'\u001b[0m\u001b[32m)\u001b[0m\u001b[32m ------------------\"\u001b[0m\n"
      ]
     },
     "metadata": {},
     "output_type": "display_data"
    },
    {
     "data": {
      "text/html": [
       "<pre style=\"white-space:pre;overflow-x:auto;line-height:normal;font-family:Menlo,'DejaVu Sans Mono',consolas,'Courier New',monospace\"><span style=\"font-weight: bold\">{</span>\n",
       "<span style=\"color: #7fbf7f; text-decoration-color: #7fbf7f\">│   </span><span style=\"color: #008000; text-decoration-color: #008000\">'employer_name'</span>: <span style=\"color: #008000; text-decoration-color: #008000\">'Tomato Technologies'</span>,\n",
       "<span style=\"color: #7fbf7f; text-decoration-color: #7fbf7f\">│   </span><span style=\"color: #008000; text-decoration-color: #008000\">'employee_name'</span>: <span style=\"color: #008000; text-decoration-color: #008000\">'Peter Scott'</span>,\n",
       "<span style=\"color: #7fbf7f; text-decoration-color: #7fbf7f\">│   </span><span style=\"color: #008000; text-decoration-color: #008000\">'employee_salary'</span>: <span style=\"font-weight: bold\">{</span><span style=\"color: #008000; text-decoration-color: #008000\">'amount'</span>: <span style=\"color: #008080; text-decoration-color: #008080; font-weight: bold\">70000</span>, <span style=\"color: #008000; text-decoration-color: #008000\">'frequency'</span>: <span style=\"color: #008000; text-decoration-color: #008000\">'annually'</span><span style=\"font-weight: bold\">}</span>\n",
       "<span style=\"font-weight: bold\">}</span>\n",
       "</pre>\n"
      ],
      "text/plain": [
       "\u001b[1m{\u001b[0m\n",
       "\u001b[2;32m│   \u001b[0m\u001b[32m'employer_name'\u001b[0m: \u001b[32m'Tomato Technologies'\u001b[0m,\n",
       "\u001b[2;32m│   \u001b[0m\u001b[32m'employee_name'\u001b[0m: \u001b[32m'Peter Scott'\u001b[0m,\n",
       "\u001b[2;32m│   \u001b[0m\u001b[32m'employee_salary'\u001b[0m: \u001b[1m{\u001b[0m\u001b[32m'amount'\u001b[0m: \u001b[1;36m70000\u001b[0m, \u001b[32m'frequency'\u001b[0m: \u001b[32m'annually'\u001b[0m\u001b[1m}\u001b[0m\n",
       "\u001b[1m}\u001b[0m\n"
      ]
     },
     "metadata": {},
     "output_type": "display_data"
    },
    {
     "data": {
      "text/html": [
       "<pre style=\"white-space:pre;overflow-x:auto;line-height:normal;font-family:Menlo,'DejaVu Sans Mono',consolas,'Courier New',monospace\"><span style=\"color: #008000; text-decoration-color: #008000\">\"------------------ Document 2 :: ('../images/sample.png.txt', 'image/png') ------------------\"</span>\n",
       "</pre>\n"
      ],
      "text/plain": [
       "\u001b[32m\"------------------ Document 2 :: \u001b[0m\u001b[32m(\u001b[0m\u001b[32m'../images/sample.png.txt', 'image/png'\u001b[0m\u001b[32m)\u001b[0m\u001b[32m ------------------\"\u001b[0m\n"
      ]
     },
     "metadata": {},
     "output_type": "display_data"
    },
    {
     "data": {
      "text/html": [
       "<pre style=\"white-space:pre;overflow-x:auto;line-height:normal;font-family:Menlo,'DejaVu Sans Mono',consolas,'Courier New',monospace\"><span style=\"font-weight: bold\">{</span>\n",
       "<span style=\"color: #7fbf7f; text-decoration-color: #7fbf7f\">│   </span><span style=\"color: #008000; text-decoration-color: #008000\">'employer_name'</span>: <span style=\"color: #008000; text-decoration-color: #008000\">'Tomato Technologies'</span>,\n",
       "<span style=\"color: #7fbf7f; text-decoration-color: #7fbf7f\">│   </span><span style=\"color: #008000; text-decoration-color: #008000\">'employee_name'</span>: <span style=\"color: #008000; text-decoration-color: #008000\">'Peter Scott'</span>,\n",
       "<span style=\"color: #7fbf7f; text-decoration-color: #7fbf7f\">│   </span><span style=\"color: #008000; text-decoration-color: #008000\">'employee_salary'</span>: <span style=\"font-weight: bold\">{</span><span style=\"color: #008000; text-decoration-color: #008000\">'amount'</span>: <span style=\"color: #008080; text-decoration-color: #008080; font-weight: bold\">70000</span>, <span style=\"color: #008000; text-decoration-color: #008000\">'frequency'</span>: <span style=\"color: #008000; text-decoration-color: #008000\">'annually'</span><span style=\"font-weight: bold\">}</span>\n",
       "<span style=\"font-weight: bold\">}</span>\n",
       "</pre>\n"
      ],
      "text/plain": [
       "\u001b[1m{\u001b[0m\n",
       "\u001b[2;32m│   \u001b[0m\u001b[32m'employer_name'\u001b[0m: \u001b[32m'Tomato Technologies'\u001b[0m,\n",
       "\u001b[2;32m│   \u001b[0m\u001b[32m'employee_name'\u001b[0m: \u001b[32m'Peter Scott'\u001b[0m,\n",
       "\u001b[2;32m│   \u001b[0m\u001b[32m'employee_salary'\u001b[0m: \u001b[1m{\u001b[0m\u001b[32m'amount'\u001b[0m: \u001b[1;36m70000\u001b[0m, \u001b[32m'frequency'\u001b[0m: \u001b[32m'annually'\u001b[0m\u001b[1m}\u001b[0m\n",
       "\u001b[1m}\u001b[0m\n"
      ]
     },
     "metadata": {},
     "output_type": "display_data"
    },
    {
     "data": {
      "text/html": [
       "<pre style=\"white-space:pre;overflow-x:auto;line-height:normal;font-family:Menlo,'DejaVu Sans Mono',consolas,'Courier New',monospace\"><span style=\"color: #008000; text-decoration-color: #008000\">\"------------------ Document 3 :: ('../images/sample.pdf.txt', 'application/pdf') ------------------\"</span>\n",
       "</pre>\n"
      ],
      "text/plain": [
       "\u001b[32m\"------------------ Document 3 :: \u001b[0m\u001b[32m(\u001b[0m\u001b[32m'../images/sample.pdf.txt', 'application/pdf'\u001b[0m\u001b[32m)\u001b[0m\u001b[32m ------------------\"\u001b[0m\n"
      ]
     },
     "metadata": {},
     "output_type": "display_data"
    },
    {
     "data": {
      "text/html": [
       "<pre style=\"white-space:pre;overflow-x:auto;line-height:normal;font-family:Menlo,'DejaVu Sans Mono',consolas,'Courier New',monospace\"><span style=\"font-weight: bold\">{</span>\n",
       "<span style=\"color: #7fbf7f; text-decoration-color: #7fbf7f\">│   </span><span style=\"color: #008000; text-decoration-color: #008000\">'employer_name'</span>: <span style=\"color: #008000; text-decoration-color: #008000\">'Tomato Technologies'</span>,\n",
       "<span style=\"color: #7fbf7f; text-decoration-color: #7fbf7f\">│   </span><span style=\"color: #008000; text-decoration-color: #008000\">'employee_name'</span>: <span style=\"color: #008000; text-decoration-color: #008000\">'Peter Scott'</span>,\n",
       "<span style=\"color: #7fbf7f; text-decoration-color: #7fbf7f\">│   </span><span style=\"color: #008000; text-decoration-color: #008000\">'employee_salary'</span>: <span style=\"font-weight: bold\">{</span><span style=\"color: #008000; text-decoration-color: #008000\">'amount'</span>: <span style=\"color: #008080; text-decoration-color: #008080; font-weight: bold\">70000</span>, <span style=\"color: #008000; text-decoration-color: #008000\">'frequency'</span>: <span style=\"color: #008000; text-decoration-color: #008000\">'annually'</span><span style=\"font-weight: bold\">}</span>\n",
       "<span style=\"font-weight: bold\">}</span>\n",
       "</pre>\n"
      ],
      "text/plain": [
       "\u001b[1m{\u001b[0m\n",
       "\u001b[2;32m│   \u001b[0m\u001b[32m'employer_name'\u001b[0m: \u001b[32m'Tomato Technologies'\u001b[0m,\n",
       "\u001b[2;32m│   \u001b[0m\u001b[32m'employee_name'\u001b[0m: \u001b[32m'Peter Scott'\u001b[0m,\n",
       "\u001b[2;32m│   \u001b[0m\u001b[32m'employee_salary'\u001b[0m: \u001b[1m{\u001b[0m\u001b[32m'amount'\u001b[0m: \u001b[1;36m70000\u001b[0m, \u001b[32m'frequency'\u001b[0m: \u001b[32m'annually'\u001b[0m\u001b[1m}\u001b[0m\n",
       "\u001b[1m}\u001b[0m\n"
      ]
     },
     "metadata": {},
     "output_type": "display_data"
    }
   ],
   "source": [
    "from rich.pretty import pprint\n",
    "for i, response in enumerate(responses):\n",
    "    pprint(f\"------------------ Document {i+1} :: {media[i]} ------------------\")\n",
    "    pprint(response[\"result\"])"
   ]
  },
  {
   "cell_type": "code",
   "execution_count": null,
   "id": "5ce8c750",
   "metadata": {},
   "outputs": [],
   "source": []
  }
 ],
 "metadata": {
  "kernelspec": {
   "display_name": "Python 3 (ipykernel)",
   "language": "python",
   "name": "python3"
  },
  "language_info": {
   "codemirror_mode": {
    "name": "ipython",
    "version": 3
   },
   "file_extension": ".py",
   "mimetype": "text/x-python",
   "name": "python",
   "nbconvert_exporter": "python",
   "pygments_lexer": "ipython3",
   "version": "3.12.1"
  }
 },
 "nbformat": 4,
 "nbformat_minor": 5
}
